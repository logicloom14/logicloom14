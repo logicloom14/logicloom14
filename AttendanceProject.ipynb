{
  "nbformat": 4,
  "nbformat_minor": 0,
  "metadata": {
    "colab": {
      "provenance": [],
      "machine_shape": "hm",
      "gpuType": "T4"
    },
    "kernelspec": {
      "name": "python3",
      "display_name": "Python 3"
    },
    "language_info": {
      "name": "python"
    },
    "accelerator": "GPU"
  },
  "cells": [
    {
      "cell_type": "code",
      "source": [
        "!pip install clearml"
      ],
      "metadata": {
        "colab": {
          "base_uri": "https://localhost:8080/"
        },
        "id": "G0oUqtZ4jYNi",
        "outputId": "894f5438-121d-4b94-afd6-3180a98b1ade"
      },
      "execution_count": null,
      "outputs": [
        {
          "output_type": "stream",
          "name": "stdout",
          "text": [
            "Collecting clearml\n",
            "  Downloading clearml-1.14.4-py2.py3-none-any.whl (1.1 MB)\n",
            "\u001b[?25l     \u001b[90m━━━━━━━━━━━━━━━━━━━━━━━━━━━━━━━━━━━━━━━━\u001b[0m \u001b[32m0.0/1.1 MB\u001b[0m \u001b[31m?\u001b[0m eta \u001b[36m-:--:--\u001b[0m\r\u001b[2K     \u001b[91m━━━━\u001b[0m\u001b[90m╺\u001b[0m\u001b[90m━━━━━━━━━━━━━━━━━━━━━━━━━━━━━━━━━━━\u001b[0m \u001b[32m0.1/1.1 MB\u001b[0m \u001b[31m3.4 MB/s\u001b[0m eta \u001b[36m0:00:01\u001b[0m\r\u001b[2K     \u001b[91m━━━━━━━━━━━━━━━━━━━━━━━━━━━━━━━━━━━━━━━\u001b[0m\u001b[91m╸\u001b[0m \u001b[32m1.1/1.1 MB\u001b[0m \u001b[31m17.6 MB/s\u001b[0m eta \u001b[36m0:00:01\u001b[0m\r\u001b[2K     \u001b[90m━━━━━━━━━━━━━━━━━━━━━━━━━━━━━━━━━━━━━━━━\u001b[0m \u001b[32m1.1/1.1 MB\u001b[0m \u001b[31m14.6 MB/s\u001b[0m eta \u001b[36m0:00:00\u001b[0m\n",
            "\u001b[?25hRequirement already satisfied: attrs>=18.0 in /usr/local/lib/python3.10/dist-packages (from clearml) (23.2.0)\n",
            "Collecting furl>=2.0.0 (from clearml)\n",
            "  Downloading furl-2.1.3-py2.py3-none-any.whl (20 kB)\n",
            "Requirement already satisfied: jsonschema>=2.6.0 in /usr/local/lib/python3.10/dist-packages (from clearml) (4.19.2)\n",
            "Requirement already satisfied: numpy>=1.10 in /usr/local/lib/python3.10/dist-packages (from clearml) (1.25.2)\n",
            "Collecting pathlib2>=2.3.0 (from clearml)\n",
            "  Downloading pathlib2-2.3.7.post1-py2.py3-none-any.whl (18 kB)\n",
            "Requirement already satisfied: Pillow>=4.1.1 in /usr/local/lib/python3.10/dist-packages (from clearml) (9.4.0)\n",
            "Requirement already satisfied: psutil>=3.4.2 in /usr/local/lib/python3.10/dist-packages (from clearml) (5.9.5)\n",
            "Requirement already satisfied: pyparsing>=2.0.3 in /usr/local/lib/python3.10/dist-packages (from clearml) (3.1.2)\n",
            "Requirement already satisfied: python-dateutil>=2.6.1 in /usr/local/lib/python3.10/dist-packages (from clearml) (2.8.2)\n",
            "Requirement already satisfied: PyYAML>=3.12 in /usr/local/lib/python3.10/dist-packages (from clearml) (6.0.1)\n",
            "Requirement already satisfied: requests>=2.20.0 in /usr/local/lib/python3.10/dist-packages (from clearml) (2.31.0)\n",
            "Requirement already satisfied: six>=1.13.0 in /usr/local/lib/python3.10/dist-packages (from clearml) (1.16.0)\n",
            "Requirement already satisfied: urllib3>=1.21.1 in /usr/local/lib/python3.10/dist-packages (from clearml) (2.0.7)\n",
            "Collecting pyjwt<2.9.0,>=2.4.0 (from clearml)\n",
            "  Downloading PyJWT-2.8.0-py3-none-any.whl (22 kB)\n",
            "Requirement already satisfied: referencing<0.40 in /usr/local/lib/python3.10/dist-packages (from clearml) (0.34.0)\n",
            "Collecting orderedmultidict>=1.0.1 (from furl>=2.0.0->clearml)\n",
            "  Downloading orderedmultidict-1.0.1-py2.py3-none-any.whl (11 kB)\n",
            "Requirement already satisfied: jsonschema-specifications>=2023.03.6 in /usr/local/lib/python3.10/dist-packages (from jsonschema>=2.6.0->clearml) (2023.12.1)\n",
            "Requirement already satisfied: rpds-py>=0.7.1 in /usr/local/lib/python3.10/dist-packages (from jsonschema>=2.6.0->clearml) (0.18.0)\n",
            "Requirement already satisfied: charset-normalizer<4,>=2 in /usr/local/lib/python3.10/dist-packages (from requests>=2.20.0->clearml) (3.3.2)\n",
            "Requirement already satisfied: idna<4,>=2.5 in /usr/local/lib/python3.10/dist-packages (from requests>=2.20.0->clearml) (3.6)\n",
            "Requirement already satisfied: certifi>=2017.4.17 in /usr/local/lib/python3.10/dist-packages (from requests>=2.20.0->clearml) (2024.2.2)\n",
            "Installing collected packages: pyjwt, pathlib2, orderedmultidict, furl, clearml\n",
            "  Attempting uninstall: pyjwt\n",
            "    Found existing installation: PyJWT 2.3.0\n",
            "    Uninstalling PyJWT-2.3.0:\n",
            "      Successfully uninstalled PyJWT-2.3.0\n",
            "Successfully installed clearml-1.14.4 furl-2.1.3 orderedmultidict-1.0.1 pathlib2-2.3.7.post1 pyjwt-2.8.0\n"
          ]
        }
      ]
    },
    {
      "cell_type": "code",
      "source": [
        "%env CLEARML_WEB_HOST=https://app.clear.ml\n",
        "%env CLEARML_API_HOST=https://api.clear.ml\n",
        "%env CLEARML_FILES_HOST=https://files.clear.ml\n",
        "%env CLEARML_API_ACCESS_KEY=73RL7WEMIA18G2AELNK0\n",
        "%env CLEARML_API_SECRET_KEY=kwCw4AJNZZvRiqU35OC5GI3G3YrAZvk4hk63lKbMACHhxMbHtq"
      ],
      "metadata": {
        "colab": {
          "base_uri": "https://localhost:8080/"
        },
        "id": "N9s2K_WUDLkN",
        "outputId": "51b513f3-3f7e-4c87-d022-3764303fd1fb"
      },
      "execution_count": null,
      "outputs": [
        {
          "output_type": "stream",
          "name": "stdout",
          "text": [
            "env: CLEARML_WEB_HOST=https://app.clear.ml\n",
            "env: CLEARML_API_HOST=https://api.clear.ml\n",
            "env: CLEARML_FILES_HOST=https://files.clear.ml\n",
            "env: CLEARML_API_ACCESS_KEY=73RL7WEMIA18G2AELNK0\n",
            "env: CLEARML_API_SECRET_KEY=kwCw4AJNZZvRiqU35OC5GI3G3YrAZvk4hk63lKbMACHhxMbHtq\n"
          ]
        }
      ]
    },
    {
      "cell_type": "markdown",
      "source": [
        "### **Loading all necessary libraries**"
      ],
      "metadata": {
        "id": "_ofAn51VjXFe"
      }
    },
    {
      "cell_type": "code",
      "execution_count": null,
      "metadata": {
        "id": "xS6ls2Voi76U"
      },
      "outputs": [],
      "source": [
        "import os\n",
        "import numpy as np\n",
        "from keras.preprocessing.image import img_to_array, load_img\n",
        "from keras.models import Model\n",
        "from keras.layers import Dense, Flatten\n",
        "from keras.applications.vgg16 import VGG16\n",
        "from keras.optimizers import Adam\n",
        "from sklearn.preprocessing import LabelEncoder\n",
        "from tensorflow.keras.utils import to_categorical\n",
        "from sklearn.model_selection import train_test_split\n",
        "from clearml import Dataset, Task, OutputModel"
      ]
    },
    {
      "cell_type": "code",
      "source": [],
      "metadata": {
        "id": "kmWb_k5QF0DD"
      },
      "execution_count": null,
      "outputs": []
    },
    {
      "cell_type": "code",
      "source": [],
      "metadata": {
        "id": "Y5YeaVeyksqT"
      },
      "execution_count": null,
      "outputs": []
    },
    {
      "cell_type": "markdown",
      "source": [
        "### **Dataset preparation**"
      ],
      "metadata": {
        "id": "OhhumWpYjfXp"
      }
    },
    {
      "cell_type": "code",
      "source": [
        "from keras.preprocessing.image import img_to_array, load_img\n",
        "import numpy as np\n",
        "import os\n",
        "\n",
        "def load_and_preprocess_image(image_path):\n",
        "    \"\"\"Load an image and preprocess it.\"\"\"\n",
        "    image = load_img(image_path, target_size=(224, 224))\n",
        "    image = img_to_array(image)\n",
        "    image /= 255.0\n",
        "    return image\n",
        "\n"
      ],
      "metadata": {
        "id": "oQREvlckjkBO"
      },
      "execution_count": null,
      "outputs": []
    },
    {
      "cell_type": "code",
      "source": [
        "import argparse\n",
        "import os\n",
        "\n",
        "import numpy as np\n",
        "from clearml import Dataset, Task\n",
        "\n",
        "\n",
        "def save_preprocessed_data(data, labels, data_filename, labels_filename):\n",
        "    import argparse\n",
        "    import os\n",
        "\n",
        "    import numpy as np\n",
        "    from clearml import Dataset\n",
        "\n",
        "    np.save(data_filename, data)\n",
        "    np.save(labels_filename, labels)\n"
      ],
      "metadata": {
        "id": "WrfM8zWwCFP-"
      },
      "execution_count": null,
      "outputs": []
    },
    {
      "cell_type": "code",
      "source": [
        "def preprocess_and_upload_data(\n",
        "    raw_dataset_name, project_name, processed_dataset_name\n",
        "):\n",
        "    import argparse\n",
        "    import os\n",
        "\n",
        "    import numpy as np\n",
        "    from clearml import Dataset, Task\n",
        "\n",
        "    task = Task.init(\n",
        "        project_name=project_name,\n",
        "        task_name=\"Dataset Preprocessing\",\n",
        "        task_type=Task.TaskTypes.data_processing,\n",
        "    )\n",
        "    raw_dataset = Dataset.get(dataset_project=project_name, dataset_name=raw_dataset_name)\n",
        "    raw_data_path = raw_dataset.get_local_copy()\n",
        "    data = []\n",
        "    labels = []\n",
        "\n",
        "    for folder in os.listdir(raw_data_path):\n",
        "        if folder.startswith(\"pins_\"):\n",
        "            folder_path = os.path.join(raw_data_path, folder)\n",
        "            label = folder.replace('pins_', '').replace('_', ' ').replace('2', '')  # Adjusted for naming convention\n",
        "            for image_file in os.listdir(folder_path):\n",
        "                image_path = os.path.join(folder_path, image_file)\n",
        "                try:\n",
        "                    image = load_and_preprocess_image(image_path)\n",
        "                    data.append(image)\n",
        "                    labels.append(label)\n",
        "                except Exception as e:\n",
        "                    print(f\"Failed to process {image_path}: {e}\")\n",
        "\n",
        "    # This conditional ensures there's at least one image loaded before attempting to stack\n",
        "    if data:\n",
        "        data = np.stack(data)  # Use stack instead of vstack for a list of 3D arrays\n",
        "        labels = np.array(labels)\n",
        "    else:\n",
        "        raise ValueError(\"No images loaded. Check your dataset path and contents.\")\n",
        "\n",
        "    print(f\"Loaded {len(data)} images.\")\n",
        "\n",
        "    # Save the preprocessed arrays to files\n",
        "    save_preprocessed_data(\n",
        "        data,\n",
        "        labels,\n",
        "        \"data_preprocessed.npy\",\n",
        "        \"labels_preprocessed.npy\",\n",
        "    )\n",
        "\n",
        "    # Upload the preprocessed arrays to ClearML\n",
        "\n",
        "    # Create a new ClearML dataset for the preprocessed data\n",
        "    processed_dataset = Dataset.create(\n",
        "        dataset_name=processed_dataset_name,\n",
        "        dataset_project=project_name,\n",
        "        parent_datasets=[raw_dataset.id],\n",
        "    )\n",
        "\n",
        "    # Add the saved numpy files to the dataset\n",
        "    processed_dataset.add_files(\"data_preprocessed.npy\")\n",
        "    processed_dataset.add_files(\"labels_preprocessed.npy\")\n",
        "\n",
        "    # Upload the dataset to ClearML\n",
        "    processed_dataset.upload()\n",
        "    processed_dataset.finalize()\n",
        "\n",
        "    # Clean up: Remove the numpy files after upload\n",
        "    os.remove(\"data_preprocessed.npy\")\n",
        "    os.remove(\"labels_preprocessed.npy\")\n",
        "\n",
        "    print(f\"Preprocessed dataset uploaded with ID: {processed_dataset.id}\")\n",
        "    task.close()"
      ],
      "metadata": {
        "id": "dvDxEAwZCNHU"
      },
      "execution_count": null,
      "outputs": []
    },
    {
      "cell_type": "code",
      "source": [
        "preprocess_and_upload_data(\"raw_data\", \"AttendanceAI\", \"processed_data\")"
      ],
      "metadata": {
        "colab": {
          "base_uri": "https://localhost:8080/",
          "height": 321
        },
        "id": "YUNDTApvDIS8",
        "outputId": "0f9f2bab-0f6d-4f25-c50b-62b3d2c13fc7"
      },
      "execution_count": null,
      "outputs": [
        {
          "output_type": "error",
          "ename": "MissingConfigError",
          "evalue": "It seems ClearML is not configured on this machine!\nTo get started with ClearML, setup your own 'clearml-server' or create a free account at https://app.clear.ml\nSetup instructions can be found here: https://clear.ml/docs",
          "traceback": [
            "\u001b[0;31m---------------------------------------------------------------------------\u001b[0m",
            "\u001b[0;31mMissingConfigError\u001b[0m                        Traceback (most recent call last)",
            "\u001b[0;32m<ipython-input-6-9ec96fcca949>\u001b[0m in \u001b[0;36m<cell line: 1>\u001b[0;34m()\u001b[0m\n\u001b[0;32m----> 1\u001b[0;31m \u001b[0mpreprocess_and_upload_data\u001b[0m\u001b[0;34m(\u001b[0m\u001b[0;34m\"raw_data\"\u001b[0m\u001b[0;34m,\u001b[0m \u001b[0;34m\"AttendanceAI\"\u001b[0m\u001b[0;34m,\u001b[0m \u001b[0;34m\"processed_data\"\u001b[0m\u001b[0;34m)\u001b[0m\u001b[0;34m\u001b[0m\u001b[0;34m\u001b[0m\u001b[0m\n\u001b[0m",
            "\u001b[0;32m<ipython-input-5-1b9b14b401ed>\u001b[0m in \u001b[0;36mpreprocess_and_upload_data\u001b[0;34m(raw_dataset_name, project_name, processed_dataset_name)\u001b[0m\n\u001b[1;32m      8\u001b[0m     \u001b[0;32mfrom\u001b[0m \u001b[0mclearml\u001b[0m \u001b[0;32mimport\u001b[0m \u001b[0mDataset\u001b[0m\u001b[0;34m,\u001b[0m \u001b[0mTask\u001b[0m\u001b[0;34m\u001b[0m\u001b[0;34m\u001b[0m\u001b[0m\n\u001b[1;32m      9\u001b[0m \u001b[0;34m\u001b[0m\u001b[0m\n\u001b[0;32m---> 10\u001b[0;31m     task = Task.init(\n\u001b[0m\u001b[1;32m     11\u001b[0m         \u001b[0mproject_name\u001b[0m\u001b[0;34m=\u001b[0m\u001b[0mproject_name\u001b[0m\u001b[0;34m,\u001b[0m\u001b[0;34m\u001b[0m\u001b[0;34m\u001b[0m\u001b[0m\n\u001b[1;32m     12\u001b[0m         \u001b[0mtask_name\u001b[0m\u001b[0;34m=\u001b[0m\u001b[0;34m\"Dataset Preprocessing\"\u001b[0m\u001b[0;34m,\u001b[0m\u001b[0;34m\u001b[0m\u001b[0;34m\u001b[0m\u001b[0m\n",
            "\u001b[0;32m/usr/local/lib/python3.10/dist-packages/clearml/task.py\u001b[0m in \u001b[0;36minit\u001b[0;34m(cls, project_name, task_name, task_type, tags, reuse_last_task_id, continue_last_task, output_uri, auto_connect_arg_parser, auto_connect_frameworks, auto_resource_monitoring, auto_connect_streams, deferred_init)\u001b[0m\n\u001b[1;32m    570\u001b[0m                 \u001b[0;32melif\u001b[0m \u001b[0;32mnot\u001b[0m \u001b[0mis_sub_process_task_id\u001b[0m\u001b[0;34m:\u001b[0m\u001b[0;34m\u001b[0m\u001b[0;34m\u001b[0m\u001b[0m\n\u001b[1;32m    571\u001b[0m                     \u001b[0;32mtry\u001b[0m\u001b[0;34m:\u001b[0m\u001b[0;34m\u001b[0m\u001b[0;34m\u001b[0m\u001b[0m\n\u001b[0;32m--> 572\u001b[0;31m                         task = cls._create_dev_task(\n\u001b[0m\u001b[1;32m    573\u001b[0m                             \u001b[0mdefault_project_name\u001b[0m\u001b[0;34m=\u001b[0m\u001b[0mproject_name\u001b[0m\u001b[0;34m,\u001b[0m\u001b[0;34m\u001b[0m\u001b[0;34m\u001b[0m\u001b[0m\n\u001b[1;32m    574\u001b[0m                             \u001b[0mdefault_task_name\u001b[0m\u001b[0;34m=\u001b[0m\u001b[0mtask_name\u001b[0m\u001b[0;34m,\u001b[0m\u001b[0;34m\u001b[0m\u001b[0;34m\u001b[0m\u001b[0m\n",
            "\u001b[0;32m/usr/local/lib/python3.10/dist-packages/clearml/task.py\u001b[0m in \u001b[0;36m_create_dev_task\u001b[0;34m(cls, default_project_name, default_task_name, default_task_type, tags, reuse_last_task_id, continue_last_task, detect_repo, auto_connect_streams)\u001b[0m\n\u001b[1;32m   3666\u001b[0m         \u001b[0;31m# create a new task\u001b[0m\u001b[0;34m\u001b[0m\u001b[0;34m\u001b[0m\u001b[0m\n\u001b[1;32m   3667\u001b[0m         \u001b[0;32mif\u001b[0m \u001b[0;32mnot\u001b[0m \u001b[0mdefault_task_id\u001b[0m\u001b[0;34m:\u001b[0m\u001b[0;34m\u001b[0m\u001b[0;34m\u001b[0m\u001b[0m\n\u001b[0;32m-> 3668\u001b[0;31m             task = cls(\n\u001b[0m\u001b[1;32m   3669\u001b[0m                 \u001b[0mprivate\u001b[0m\u001b[0;34m=\u001b[0m\u001b[0mcls\u001b[0m\u001b[0;34m.\u001b[0m\u001b[0m__create_protection\u001b[0m\u001b[0;34m,\u001b[0m\u001b[0;34m\u001b[0m\u001b[0;34m\u001b[0m\u001b[0m\n\u001b[1;32m   3670\u001b[0m                 \u001b[0mproject_name\u001b[0m\u001b[0;34m=\u001b[0m\u001b[0mdefault_project_name\u001b[0m\u001b[0;34m,\u001b[0m\u001b[0;34m\u001b[0m\u001b[0;34m\u001b[0m\u001b[0m\n",
            "\u001b[0;32m/usr/local/lib/python3.10/dist-packages/clearml/task.py\u001b[0m in \u001b[0;36m__init__\u001b[0;34m(self, private, **kwargs)\u001b[0m\n\u001b[1;32m    207\u001b[0m         \u001b[0mself\u001b[0m\u001b[0;34m.\u001b[0m\u001b[0m_repo_detect_lock\u001b[0m \u001b[0;34m=\u001b[0m \u001b[0mthreading\u001b[0m\u001b[0;34m.\u001b[0m\u001b[0mRLock\u001b[0m\u001b[0;34m(\u001b[0m\u001b[0;34m)\u001b[0m\u001b[0;34m\u001b[0m\u001b[0;34m\u001b[0m\u001b[0m\n\u001b[1;32m    208\u001b[0m \u001b[0;34m\u001b[0m\u001b[0m\n\u001b[0;32m--> 209\u001b[0;31m         \u001b[0msuper\u001b[0m\u001b[0;34m(\u001b[0m\u001b[0mTask\u001b[0m\u001b[0;34m,\u001b[0m \u001b[0mself\u001b[0m\u001b[0;34m)\u001b[0m\u001b[0;34m.\u001b[0m\u001b[0m__init__\u001b[0m\u001b[0;34m(\u001b[0m\u001b[0;34m**\u001b[0m\u001b[0mkwargs\u001b[0m\u001b[0;34m)\u001b[0m\u001b[0;34m\u001b[0m\u001b[0;34m\u001b[0m\u001b[0m\n\u001b[0m\u001b[1;32m    210\u001b[0m         \u001b[0mself\u001b[0m\u001b[0;34m.\u001b[0m\u001b[0m_arguments\u001b[0m \u001b[0;34m=\u001b[0m \u001b[0m_Arguments\u001b[0m\u001b[0;34m(\u001b[0m\u001b[0mself\u001b[0m\u001b[0;34m)\u001b[0m\u001b[0;34m\u001b[0m\u001b[0;34m\u001b[0m\u001b[0m\n\u001b[1;32m    211\u001b[0m         \u001b[0mself\u001b[0m\u001b[0;34m.\u001b[0m\u001b[0m_logger\u001b[0m \u001b[0;34m=\u001b[0m \u001b[0;32mNone\u001b[0m\u001b[0;34m\u001b[0m\u001b[0;34m\u001b[0m\u001b[0m\n",
            "\u001b[0;32m/usr/local/lib/python3.10/dist-packages/clearml/backend_interface/task/task.py\u001b[0m in \u001b[0;36m__init__\u001b[0;34m(self, session, task_id, log, project_name, task_name, task_type, log_to_backend, raise_on_validation_errors, force_create)\u001b[0m\n\u001b[1;32m    159\u001b[0m         \u001b[0mtask_id\u001b[0m \u001b[0;34m=\u001b[0m \u001b[0mself\u001b[0m\u001b[0;34m.\u001b[0m\u001b[0m_resolve_task_id\u001b[0m\u001b[0;34m(\u001b[0m\u001b[0mtask_id\u001b[0m\u001b[0;34m,\u001b[0m \u001b[0mlog\u001b[0m\u001b[0;34m=\u001b[0m\u001b[0mlog\u001b[0m\u001b[0;34m)\u001b[0m \u001b[0;32mif\u001b[0m \u001b[0;32mnot\u001b[0m \u001b[0mforce_create\u001b[0m \u001b[0;32melse\u001b[0m \u001b[0;32mNone\u001b[0m\u001b[0;34m\u001b[0m\u001b[0;34m\u001b[0m\u001b[0m\n\u001b[1;32m    160\u001b[0m         \u001b[0mself\u001b[0m\u001b[0;34m.\u001b[0m\u001b[0m__edit_lock\u001b[0m \u001b[0;34m=\u001b[0m \u001b[0;32mNone\u001b[0m\u001b[0;34m\u001b[0m\u001b[0;34m\u001b[0m\u001b[0m\n\u001b[0;32m--> 161\u001b[0;31m         \u001b[0msuper\u001b[0m\u001b[0;34m(\u001b[0m\u001b[0mTask\u001b[0m\u001b[0;34m,\u001b[0m \u001b[0mself\u001b[0m\u001b[0;34m)\u001b[0m\u001b[0;34m.\u001b[0m\u001b[0m__init__\u001b[0m\u001b[0;34m(\u001b[0m\u001b[0mid\u001b[0m\u001b[0;34m=\u001b[0m\u001b[0mtask_id\u001b[0m\u001b[0;34m,\u001b[0m \u001b[0msession\u001b[0m\u001b[0;34m=\u001b[0m\u001b[0msession\u001b[0m\u001b[0;34m,\u001b[0m \u001b[0mlog\u001b[0m\u001b[0;34m=\u001b[0m\u001b[0mlog\u001b[0m\u001b[0;34m)\u001b[0m\u001b[0;34m\u001b[0m\u001b[0;34m\u001b[0m\u001b[0m\n\u001b[0m\u001b[1;32m    162\u001b[0m         \u001b[0mself\u001b[0m\u001b[0;34m.\u001b[0m\u001b[0m_project_name\u001b[0m \u001b[0;34m=\u001b[0m \u001b[0;32mNone\u001b[0m\u001b[0;34m\u001b[0m\u001b[0;34m\u001b[0m\u001b[0m\n\u001b[1;32m    163\u001b[0m         \u001b[0mself\u001b[0m\u001b[0;34m.\u001b[0m\u001b[0m_storage_uri\u001b[0m \u001b[0;34m=\u001b[0m \u001b[0;32mNone\u001b[0m\u001b[0;34m\u001b[0m\u001b[0;34m\u001b[0m\u001b[0m\n",
            "\u001b[0;32m/usr/local/lib/python3.10/dist-packages/clearml/backend_interface/base.py\u001b[0m in \u001b[0;36m__init__\u001b[0;34m(self, id, session, log, **kwargs)\u001b[0m\n\u001b[1;32m    147\u001b[0m \u001b[0;34m\u001b[0m\u001b[0m\n\u001b[1;32m    148\u001b[0m     \u001b[0;32mdef\u001b[0m \u001b[0m__init__\u001b[0m\u001b[0;34m(\u001b[0m\u001b[0mself\u001b[0m\u001b[0;34m,\u001b[0m \u001b[0mid\u001b[0m\u001b[0;34m,\u001b[0m \u001b[0msession\u001b[0m\u001b[0;34m=\u001b[0m\u001b[0;32mNone\u001b[0m\u001b[0;34m,\u001b[0m \u001b[0mlog\u001b[0m\u001b[0;34m=\u001b[0m\u001b[0;32mNone\u001b[0m\u001b[0;34m,\u001b[0m \u001b[0;34m**\u001b[0m\u001b[0mkwargs\u001b[0m\u001b[0;34m)\u001b[0m\u001b[0;34m:\u001b[0m\u001b[0;34m\u001b[0m\u001b[0;34m\u001b[0m\u001b[0m\n\u001b[0;32m--> 149\u001b[0;31m         \u001b[0msuper\u001b[0m\u001b[0;34m(\u001b[0m\u001b[0mIdObjectBase\u001b[0m\u001b[0;34m,\u001b[0m \u001b[0mself\u001b[0m\u001b[0;34m)\u001b[0m\u001b[0;34m.\u001b[0m\u001b[0m__init__\u001b[0m\u001b[0;34m(\u001b[0m\u001b[0msession\u001b[0m\u001b[0;34m,\u001b[0m \u001b[0mlog\u001b[0m\u001b[0;34m,\u001b[0m \u001b[0;34m**\u001b[0m\u001b[0mkwargs\u001b[0m\u001b[0;34m)\u001b[0m\u001b[0;34m\u001b[0m\u001b[0;34m\u001b[0m\u001b[0m\n\u001b[0m\u001b[1;32m    150\u001b[0m         \u001b[0mself\u001b[0m\u001b[0;34m.\u001b[0m\u001b[0m_data\u001b[0m \u001b[0;34m=\u001b[0m \u001b[0;32mNone\u001b[0m\u001b[0;34m\u001b[0m\u001b[0;34m\u001b[0m\u001b[0m\n\u001b[1;32m    151\u001b[0m         \u001b[0mself\u001b[0m\u001b[0;34m.\u001b[0m\u001b[0m_id\u001b[0m \u001b[0;34m=\u001b[0m \u001b[0;32mNone\u001b[0m\u001b[0;34m\u001b[0m\u001b[0;34m\u001b[0m\u001b[0m\n",
            "\u001b[0;32m/usr/local/lib/python3.10/dist-packages/clearml/backend_interface/base.py\u001b[0m in \u001b[0;36m__init__\u001b[0;34m(self, session, log, **kwargs)\u001b[0m\n\u001b[1;32m     39\u001b[0m     \u001b[0;32mdef\u001b[0m \u001b[0m__init__\u001b[0m\u001b[0;34m(\u001b[0m\u001b[0mself\u001b[0m\u001b[0;34m,\u001b[0m \u001b[0msession\u001b[0m\u001b[0;34m=\u001b[0m\u001b[0;32mNone\u001b[0m\u001b[0;34m,\u001b[0m \u001b[0mlog\u001b[0m\u001b[0;34m=\u001b[0m\u001b[0;32mNone\u001b[0m\u001b[0;34m,\u001b[0m \u001b[0;34m**\u001b[0m\u001b[0mkwargs\u001b[0m\u001b[0;34m)\u001b[0m\u001b[0;34m:\u001b[0m\u001b[0;34m\u001b[0m\u001b[0;34m\u001b[0m\u001b[0m\n\u001b[1;32m     40\u001b[0m         \u001b[0msuper\u001b[0m\u001b[0;34m(\u001b[0m\u001b[0mInterfaceBase\u001b[0m\u001b[0;34m,\u001b[0m \u001b[0mself\u001b[0m\u001b[0;34m)\u001b[0m\u001b[0;34m.\u001b[0m\u001b[0m__init__\u001b[0m\u001b[0;34m(\u001b[0m\u001b[0;34m)\u001b[0m\u001b[0;34m\u001b[0m\u001b[0;34m\u001b[0m\u001b[0m\n\u001b[0;32m---> 41\u001b[0;31m         \u001b[0mself\u001b[0m\u001b[0;34m.\u001b[0m\u001b[0m_session\u001b[0m \u001b[0;34m=\u001b[0m \u001b[0msession\u001b[0m \u001b[0;32mor\u001b[0m \u001b[0mself\u001b[0m\u001b[0;34m.\u001b[0m\u001b[0m_get_default_session\u001b[0m\u001b[0;34m(\u001b[0m\u001b[0;34m)\u001b[0m\u001b[0;34m\u001b[0m\u001b[0;34m\u001b[0m\u001b[0m\n\u001b[0m\u001b[1;32m     42\u001b[0m         \u001b[0mself\u001b[0m\u001b[0;34m.\u001b[0m\u001b[0m_log\u001b[0m \u001b[0;34m=\u001b[0m \u001b[0mlog\u001b[0m \u001b[0;32mor\u001b[0m \u001b[0mself\u001b[0m\u001b[0;34m.\u001b[0m\u001b[0m_create_log\u001b[0m\u001b[0;34m(\u001b[0m\u001b[0;34m)\u001b[0m\u001b[0;34m\u001b[0m\u001b[0;34m\u001b[0m\u001b[0m\n\u001b[1;32m     43\u001b[0m \u001b[0;34m\u001b[0m\u001b[0m\n",
            "\u001b[0;32m/usr/local/lib/python3.10/dist-packages/clearml/backend_interface/base.py\u001b[0m in \u001b[0;36m_get_default_session\u001b[0;34m(cls)\u001b[0m\n\u001b[1;32m    117\u001b[0m     \u001b[0;32mdef\u001b[0m \u001b[0m_get_default_session\u001b[0m\u001b[0;34m(\u001b[0m\u001b[0mcls\u001b[0m\u001b[0;34m)\u001b[0m\u001b[0;34m:\u001b[0m\u001b[0;34m\u001b[0m\u001b[0;34m\u001b[0m\u001b[0m\n\u001b[1;32m    118\u001b[0m         \u001b[0;32mif\u001b[0m \u001b[0;32mnot\u001b[0m \u001b[0mInterfaceBase\u001b[0m\u001b[0;34m.\u001b[0m\u001b[0m_default_session\u001b[0m\u001b[0;34m:\u001b[0m\u001b[0;34m\u001b[0m\u001b[0;34m\u001b[0m\u001b[0m\n\u001b[0;32m--> 119\u001b[0;31m             InterfaceBase._default_session = Session(\n\u001b[0m\u001b[1;32m    120\u001b[0m                 \u001b[0minitialize_logging\u001b[0m\u001b[0;34m=\u001b[0m\u001b[0;32mFalse\u001b[0m\u001b[0;34m,\u001b[0m\u001b[0;34m\u001b[0m\u001b[0;34m\u001b[0m\u001b[0m\n\u001b[1;32m    121\u001b[0m                 \u001b[0mconfig\u001b[0m\u001b[0;34m=\u001b[0m\u001b[0mconfig_obj\u001b[0m\u001b[0;34m,\u001b[0m\u001b[0;34m\u001b[0m\u001b[0;34m\u001b[0m\u001b[0m\n",
            "\u001b[0;32m/usr/local/lib/python3.10/dist-packages/clearml/backend_api/session/session.py\u001b[0m in \u001b[0;36m__init__\u001b[0;34m(self, worker, api_key, secret_key, host, logger, verbose, config, http_retries_config, **kwargs)\u001b[0m\n\u001b[1;32m    158\u001b[0m             \u001b[0mself\u001b[0m\u001b[0;34m.\u001b[0m\u001b[0mconfig\u001b[0m \u001b[0;34m=\u001b[0m \u001b[0mConfigWrapper\u001b[0m\u001b[0;34m.\u001b[0m\u001b[0m_init\u001b[0m\u001b[0;34m(\u001b[0m\u001b[0;34m)\u001b[0m\u001b[0;34m\u001b[0m\u001b[0;34m\u001b[0m\u001b[0m\n\u001b[1;32m    159\u001b[0m \u001b[0;34m\u001b[0m\u001b[0m\n\u001b[0;32m--> 160\u001b[0;31m         \u001b[0mself\u001b[0m\u001b[0;34m.\u001b[0m\u001b[0m_connect\u001b[0m\u001b[0;34m(\u001b[0m\u001b[0;34m)\u001b[0m\u001b[0;34m\u001b[0m\u001b[0;34m\u001b[0m\u001b[0m\n\u001b[0m\u001b[1;32m    161\u001b[0m \u001b[0;34m\u001b[0m\u001b[0m\n\u001b[1;32m    162\u001b[0m     \u001b[0;34m@\u001b[0m\u001b[0mclassmethod\u001b[0m\u001b[0;34m\u001b[0m\u001b[0;34m\u001b[0m\u001b[0m\n",
            "\u001b[0;32m/usr/local/lib/python3.10/dist-packages/clearml/backend_api/session/session.py\u001b[0m in \u001b[0;36m_connect\u001b[0;34m(self)\u001b[0m\n\u001b[1;32m    218\u001b[0m \u001b[0;34m\u001b[0m\u001b[0m\n\u001b[1;32m    219\u001b[0m         \u001b[0;32mif\u001b[0m \u001b[0;32mnot\u001b[0m \u001b[0mself\u001b[0m\u001b[0;34m.\u001b[0m\u001b[0msecret_key\u001b[0m \u001b[0;32mand\u001b[0m \u001b[0;32mnot\u001b[0m \u001b[0mself\u001b[0m\u001b[0;34m.\u001b[0m\u001b[0maccess_key\u001b[0m \u001b[0;32mand\u001b[0m \u001b[0;32mnot\u001b[0m \u001b[0mself\u001b[0m\u001b[0;34m.\u001b[0m\u001b[0m__auth_token\u001b[0m\u001b[0;34m:\u001b[0m\u001b[0;34m\u001b[0m\u001b[0;34m\u001b[0m\u001b[0m\n\u001b[0;32m--> 220\u001b[0;31m             \u001b[0;32mraise\u001b[0m \u001b[0mMissingConfigError\u001b[0m\u001b[0;34m(\u001b[0m\u001b[0;34m)\u001b[0m\u001b[0;34m\u001b[0m\u001b[0;34m\u001b[0m\u001b[0m\n\u001b[0m\u001b[1;32m    221\u001b[0m \u001b[0;34m\u001b[0m\u001b[0m\n\u001b[1;32m    222\u001b[0m         super(Session, self).__init__(\n",
            "\u001b[0;31mMissingConfigError\u001b[0m: It seems ClearML is not configured on this machine!\nTo get started with ClearML, setup your own 'clearml-server' or create a free account at https://app.clear.ml\nSetup instructions can be found here: https://clear.ml/docs"
          ]
        }
      ]
    },
    {
      "cell_type": "markdown",
      "source": [
        "### **Encoding the images**"
      ],
      "metadata": {
        "id": "ND-vFL6xzLn2"
      }
    },
    {
      "cell_type": "code",
      "source": [
        "task = Task.init(\n",
        "        project_name=\"AttendanceAI\",\n",
        "        task_name=\"Model Training\",\n",
        "        task_type=Task.TaskTypes.training,\n",
        "        auto_connect_frameworks=\"keras\",\n",
        "    )\n",
        "\n"
      ],
      "metadata": {
        "colab": {
          "base_uri": "https://localhost:8080/"
        },
        "id": "lVi3z1L5Dv2m",
        "outputId": "b5dcc046-a6d5-4f78-e0ed-a6abed5b86d1"
      },
      "execution_count": null,
      "outputs": [
        {
          "output_type": "stream",
          "name": "stdout",
          "text": [
            "ClearML Task: created new task id=923cf2f23fd949cf8fc481749d15079c\n",
            "ClearML results page: https://app.clear.ml/projects/7c535a5376bf478fa3de8e5129f566ed/experiments/923cf2f23fd949cf8fc481749d15079c/output/log\n"
          ]
        }
      ]
    },
    {
      "cell_type": "code",
      "source": [
        "# Access dataset\n",
        "dataset = Dataset.get(dataset_project=\"AttendanceAI\", dataset_name=\"processed_data\")\n",
        "dataset_path = dataset.get_local_copy()"
      ],
      "metadata": {
        "colab": {
          "base_uri": "https://localhost:8080/"
        },
        "id": "zyW1ib-UEggk",
        "outputId": "cf295e65-0db3-4f18-b32c-5c86bcef565a"
      },
      "execution_count": null,
      "outputs": [
        {
          "output_type": "stream",
          "name": "stderr",
          "text": [
            "███████████████████████████████ 100% | 64.28/64.28 MB [00:01<00:00, 50.43MB/s]: \n"
          ]
        }
      ]
    },
    {
      "cell_type": "code",
      "source": [
        "data = np.load(f\"{dataset_path}/data_preprocessed.npy\")\n",
        "labels = np.load(f\"{dataset_path}/labels_preprocessed.npy\")"
      ],
      "metadata": {
        "id": "GW1v6bOMEqnq"
      },
      "execution_count": null,
      "outputs": []
    },
    {
      "cell_type": "code",
      "source": [
        "# Encode labels\n",
        "label_encoder = LabelEncoder()\n",
        "integer_encoded = label_encoder.fit_transform(labels)\n",
        "labels = to_categorical(integer_encoded)"
      ],
      "metadata": {
        "id": "srY9cCGPzGgR"
      },
      "execution_count": null,
      "outputs": []
    },
    {
      "cell_type": "code",
      "source": [
        "# Ensure labels are encoded if they're not already in a numerical format\n",
        "# For categorical_crossentropy, your labels should be one-hot encoded\n",
        "\n",
        "# Splitting the dataset into training and testing sets\n",
        "X_train, X_test, y_train, y_test = train_test_split(data, labels, test_size=0.25, random_state=42)\n"
      ],
      "metadata": {
        "id": "jdExDoje0VqK"
      },
      "execution_count": null,
      "outputs": []
    },
    {
      "cell_type": "markdown",
      "source": [
        "### **Creating a model for prediction**"
      ],
      "metadata": {
        "id": "6FF6TT6HzTCm"
      }
    },
    {
      "cell_type": "code",
      "source": [
        "baseModel = VGG16(weights=\"imagenet\", include_top=False, input_shape=(224, 224, 3))\n",
        "headModel = baseModel.output\n",
        "headModel = Flatten(name=\"flatten\")(headModel)\n",
        "headModel = Dense(512, activation=\"relu\")(headModel)\n",
        "headModel = Dense(len(np.unique(integer_encoded)), activation=\"softmax\")(headModel)\n",
        "model = Model(inputs=baseModel.input, outputs=headModel)\n",
        "\n",
        "for layer in baseModel.layers:\n",
        "    layer.trainable = False"
      ],
      "metadata": {
        "colab": {
          "base_uri": "https://localhost:8080/"
        },
        "id": "IVt_LYdIzP4i",
        "outputId": "668db0d7-8ba1-4b22-e9a1-48eea82e2a15"
      },
      "execution_count": null,
      "outputs": [
        {
          "output_type": "stream",
          "name": "stdout",
          "text": [
            "Downloading data from https://storage.googleapis.com/tensorflow/keras-applications/vgg16/vgg16_weights_tf_dim_ordering_tf_kernels_notop.h5\n",
            "58889256/58889256 [==============================] - 0s 0us/step\n"
          ]
        }
      ]
    },
    {
      "cell_type": "markdown",
      "source": [
        "### **Compiling and training the model**"
      ],
      "metadata": {
        "id": "MIxx3qQyzija"
      }
    },
    {
      "cell_type": "code",
      "source": [
        "from tensorflow.keras.callbacks import Callback, LambdaCallback\n",
        "# Inside your training function, after initializing your task:\n",
        "logger = task.get_logger()\n",
        "\n",
        "# Manual logging within model.fit() callback\n",
        "lambda_clbk = LambdaCallback(\n",
        "        on_epoch_end=lambda epoch, logs: [\n",
        "            logger.report_scalar(\n",
        "                \"loss\", \"train\", iteration=epoch, value=logs[\"loss\"]\n",
        "            ),\n",
        "            logger.report_scalar(\n",
        "                \"accuracy\", \"train\", iteration=epoch, value=logs[\"accuracy\"]\n",
        "            ),\n",
        "            logger.report_scalar(\n",
        "                \"val_loss\", \"validation\", iteration=epoch, value=logs[\"val_loss\"]\n",
        "            ),\n",
        "            logger.report_scalar(\n",
        "                \"val_accuracy\",\n",
        "                \"validation\",\n",
        "                iteration=epoch,\n",
        "                value=logs[\"val_accuracy\"],\n",
        "            ),\n",
        "        ]\n",
        "    )"
      ],
      "metadata": {
        "id": "9nLWdCL4E0lX"
      },
      "execution_count": null,
      "outputs": []
    },
    {
      "cell_type": "code",
      "source": [
        "from keras.optimizers import Adam\n",
        "from keras.callbacks import LearningRateScheduler\n",
        "import math\n",
        "from clearml import Dataset, OutputModel, Task\n",
        "\n",
        "# Define a simple decay function to decrease the learning rate over epochs\n",
        "def lr_decay(epoch):\n",
        "    initial_lr = 1e-4  # Initial learning rate\n",
        "    drop = 0.5  # Reduce the learning rate by half\n",
        "    epochs_drop = 10.0  # Reduce the learning rate every 10 epochs\n",
        "    lr = initial_lr * math.pow(drop, math.floor((1+epoch)/epochs_drop))\n",
        "    return lr\n",
        "\n",
        "# Learning Rate Scheduler callback\n",
        "lr_scheduler = LearningRateScheduler(lr_decay)\n",
        "\n",
        "# Compile the model using the Adam optimizer without the decay parameter\n",
        "model.compile(loss=\"categorical_crossentropy\", optimizer=Adam(learning_rate=1e-4), metrics=[\"accuracy\"])\n",
        "\n",
        "# Train the model, including the lr_scheduler in the callbacks\n",
        "H = model.fit(X_train, y_train, validation_data=(X_test, y_test), epochs=20, batch_size=32, callbacks=[lr_scheduler, lambda_clbk])\n",
        "\n",
        "# Save and upload the model to ClearML\n",
        "model_file_name = \"model.h5\"\n",
        "model.save(model_file_name)\n",
        "output_model = OutputModel(task=task)\n",
        "output_model.update_weights(\n",
        "    model_file_name, upload_uri=\"https://files.clear.ml\"\n",
        ")  # Upload the model weights to ClearML\n",
        "output_model.publish()  # Make sure the model is accessible\n",
        "task.upload_artifact(\"trained_model\", artifact_object=model_file_name)"
      ],
      "metadata": {
        "colab": {
          "base_uri": "https://localhost:8080/"
        },
        "id": "rQQ0P8Mxzfhb",
        "outputId": "c3b1cf56-07e3-43d7-953a-70ed623cbe17"
      },
      "execution_count": null,
      "outputs": [
        {
          "output_type": "stream",
          "name": "stdout",
          "text": [
            "Epoch 1/20\n",
            "15/15 [==============================] - 19s 635ms/step - loss: 0.8079 - accuracy: 0.6733 - val_loss: 0.4010 - val_accuracy: 0.8609 - lr: 1.0000e-04\n",
            "Epoch 2/20\n",
            "15/15 [==============================] - 3s 170ms/step - loss: 0.1786 - accuracy: 0.9622 - val_loss: 0.2773 - val_accuracy: 0.8940 - lr: 1.0000e-04\n",
            "Epoch 3/20\n",
            "15/15 [==============================] - 3s 173ms/step - loss: 0.0798 - accuracy: 0.9844 - val_loss: 0.2220 - val_accuracy: 0.9404 - lr: 1.0000e-04\n",
            "Epoch 4/20\n",
            "15/15 [==============================] - 3s 170ms/step - loss: 0.0344 - accuracy: 0.9978 - val_loss: 0.1749 - val_accuracy: 0.9338 - lr: 1.0000e-04\n",
            "Epoch 5/20\n",
            "15/15 [==============================] - 3s 171ms/step - loss: 0.0195 - accuracy: 1.0000 - val_loss: 0.1509 - val_accuracy: 0.9470 - lr: 1.0000e-04\n",
            "Epoch 6/20\n",
            "15/15 [==============================] - 3s 172ms/step - loss: 0.0126 - accuracy: 1.0000 - val_loss: 0.1409 - val_accuracy: 0.9536 - lr: 1.0000e-04\n",
            "Epoch 7/20\n",
            "15/15 [==============================] - 3s 219ms/step - loss: 0.0103 - accuracy: 1.0000 - val_loss: 0.1357 - val_accuracy: 0.9536 - lr: 1.0000e-04\n",
            "Epoch 8/20\n",
            "15/15 [==============================] - 3s 220ms/step - loss: 0.0085 - accuracy: 1.0000 - val_loss: 0.1383 - val_accuracy: 0.9470 - lr: 1.0000e-04\n",
            "Epoch 9/20\n",
            "15/15 [==============================] - 3s 220ms/step - loss: 0.0073 - accuracy: 1.0000 - val_loss: 0.1310 - val_accuracy: 0.9536 - lr: 1.0000e-04\n",
            "Epoch 10/20\n",
            "15/15 [==============================] - 3s 222ms/step - loss: 0.0062 - accuracy: 1.0000 - val_loss: 0.1256 - val_accuracy: 0.9470 - lr: 5.0000e-05\n",
            "Epoch 11/20\n",
            "15/15 [==============================] - 3s 224ms/step - loss: 0.0055 - accuracy: 1.0000 - val_loss: 0.1254 - val_accuracy: 0.9536 - lr: 5.0000e-05\n",
            "Epoch 12/20\n",
            "15/15 [==============================] - 3s 179ms/step - loss: 0.0051 - accuracy: 1.0000 - val_loss: 0.1237 - val_accuracy: 0.9536 - lr: 5.0000e-05\n",
            "Epoch 13/20\n",
            "15/15 [==============================] - 3s 223ms/step - loss: 0.0050 - accuracy: 1.0000 - val_loss: 0.1235 - val_accuracy: 0.9536 - lr: 5.0000e-05\n",
            "Epoch 14/20\n",
            "15/15 [==============================] - 3s 181ms/step - loss: 0.0045 - accuracy: 1.0000 - val_loss: 0.1216 - val_accuracy: 0.9536 - lr: 5.0000e-05\n",
            "Epoch 15/20\n",
            "15/15 [==============================] - 3s 229ms/step - loss: 0.0041 - accuracy: 1.0000 - val_loss: 0.1177 - val_accuracy: 0.9536 - lr: 5.0000e-05\n",
            "Epoch 16/20\n",
            "15/15 [==============================] - 3s 226ms/step - loss: 0.0039 - accuracy: 1.0000 - val_loss: 0.1189 - val_accuracy: 0.9536 - lr: 5.0000e-05\n",
            "Epoch 17/20\n",
            "15/15 [==============================] - 3s 226ms/step - loss: 0.0040 - accuracy: 1.0000 - val_loss: 0.1242 - val_accuracy: 0.9536 - lr: 5.0000e-05\n",
            "Epoch 18/20\n",
            "15/15 [==============================] - 3s 227ms/step - loss: 0.0036 - accuracy: 1.0000 - val_loss: 0.1129 - val_accuracy: 0.9536 - lr: 5.0000e-05\n",
            "Epoch 19/20\n",
            "15/15 [==============================] - 3s 183ms/step - loss: 0.0033 - accuracy: 1.0000 - val_loss: 0.1126 - val_accuracy: 0.9536 - lr: 5.0000e-05\n",
            "Epoch 20/20\n",
            "15/15 [==============================] - 3s 184ms/step - loss: 0.0031 - accuracy: 1.0000 - val_loss: 0.1131 - val_accuracy: 0.9536 - lr: 2.5000e-05\n"
          ]
        },
        {
          "output_type": "stream",
          "name": "stderr",
          "text": [
            "/usr/local/lib/python3.10/dist-packages/clearml/binding/frameworks/tensorflow_bind.py:1918: UserWarning:\n",
            "\n",
            "You are saving your model as an HDF5 file via `model.save()`. This file format is considered legacy. We recommend using instead the native Keras format, e.g. `model.save('my_model.keras')`.\n",
            "\n"
          ]
        },
        {
          "output_type": "execute_result",
          "data": {
            "text/plain": [
              "True"
            ]
          },
          "metadata": {},
          "execution_count": 15
        }
      ]
    },
    {
      "cell_type": "markdown",
      "source": [
        "### **Checking the accuracy**"
      ],
      "metadata": {
        "id": "dS7JIRCB00dd"
      }
    },
    {
      "cell_type": "code",
      "source": [
        "import matplotlib.pyplot as plt\n",
        "\n",
        "# Plot training & validation accuracy values\n",
        "plt.plot(H.history['accuracy'])\n",
        "plt.plot(H.history['val_accuracy'])\n",
        "plt.title('Model accuracy')\n",
        "plt.ylabel('Accuracy')\n",
        "plt.xlabel('Epoch')\n",
        "plt.legend(['Train', 'Test'], loc='upper left')\n",
        "logger.report_matplotlib_figure(plt, \"accu\", \"accu\")\n",
        "plt.show()\n",
        "\n",
        "\n",
        "# Plot training & validation loss values\n",
        "plt.plot(H.history['loss'])\n",
        "plt.plot(H.history['val_loss'])\n",
        "plt.title('Model loss')\n",
        "plt.ylabel('Loss')\n",
        "plt.xlabel('Epoch')\n",
        "plt.legend(['Train', 'Test'], loc='upper left')\n",
        "\n",
        "logger.report_matplotlib_figure(plt, \"accu\", \"accu\")\n",
        "plt.show()"
      ],
      "metadata": {
        "colab": {
          "base_uri": "https://localhost:8080/",
          "height": 927
        },
        "id": "rOv2DWEB00Ix",
        "outputId": "3fb29a4a-7eb8-42ca-d71a-cd52c9ee643a"
      },
      "execution_count": null,
      "outputs": [
        {
          "output_type": "display_data",
          "data": {
            "text/plain": [
              "<Figure size 640x480 with 1 Axes>"
            ],
            "image/png": "[encoded data removed]"
          },
          "metadata": {}
        },
        {
          "output_type": "display_data",
          "data": {
            "text/plain": [
              "<Figure size 640x480 with 1 Axes>"
            ],
            "image/png": "[encoded data removed]"
          },
          "metadata": {}
        }
      ]
    },
    {
      "cell_type": "code",
      "source": [
        "Task.close(task)"
      ],
      "metadata": {
        "id": "xjwjzETDFvWP"
      },
      "execution_count": null,
      "outputs": []
    },
    {
      "cell_type": "code",
      "source": [
        "from keras.preprocessing import image\n",
        "import numpy as np\n",
        "\n",
        "# Function to preprocess new images\n",
        "def preprocess_image(img_path):\n",
        "    img = image.load_img(img_path, target_size=(224, 224))\n",
        "    img_tensor = image.img_to_array(img)\n",
        "    img_tensor = np.expand_dims(img_tensor, axis=0)\n",
        "    img_tensor /= 255.0  # Normalize the image\n",
        "    return img_tensor\n",
        "\n",
        "# Load and preprocess the image\n",
        "new_image_path = '/content/Test.jpeg'\n",
        "new_image = preprocess_image(new_image_path)\n",
        "\n",
        "# Make a prediction\n",
        "predictions = model.predict(new_image)\n",
        "\n",
        "# Assuming you have more than two classes and are using softmax activation in the last layer\n",
        "predicted_class = np.argmax(predictions, axis=1)\n",
        "\n",
        "# If you have the class labels stored (e.g., from a label encoder or manually specified), you can retrieve the label\n",
        "predicted_label = label_encoder.inverse_transform(predicted_class)\n",
        "print(\"Predicted label:\", predicted_label)\n"
      ],
      "metadata": {
        "colab": {
          "base_uri": "https://localhost:8080/",
          "height": 356
        },
        "id": "TTmfuD0Z0pYQ",
        "outputId": "363f7191-93ba-4614-d6e3-64974b76d7f8"
      },
      "execution_count": null,
      "outputs": [
        {
          "output_type": "error",
          "ename": "FileNotFoundError",
          "evalue": "[Errno 2] No such file or directory: '/content/Test.jpeg'",
          "traceback": [
            "\u001b[0;31m---------------------------------------------------------------------------\u001b[0m",
            "\u001b[0;31mFileNotFoundError\u001b[0m                         Traceback (most recent call last)",
            "\u001b[0;32m<ipython-input-18-48454c8e9409>\u001b[0m in \u001b[0;36m<cell line: 14>\u001b[0;34m()\u001b[0m\n\u001b[1;32m     12\u001b[0m \u001b[0;31m# Load and preprocess the image\u001b[0m\u001b[0;34m\u001b[0m\u001b[0;34m\u001b[0m\u001b[0m\n\u001b[1;32m     13\u001b[0m \u001b[0mnew_image_path\u001b[0m \u001b[0;34m=\u001b[0m \u001b[0;34m'/content/Test.jpeg'\u001b[0m\u001b[0;34m\u001b[0m\u001b[0;34m\u001b[0m\u001b[0m\n\u001b[0;32m---> 14\u001b[0;31m \u001b[0mnew_image\u001b[0m \u001b[0;34m=\u001b[0m \u001b[0mpreprocess_image\u001b[0m\u001b[0;34m(\u001b[0m\u001b[0mnew_image_path\u001b[0m\u001b[0;34m)\u001b[0m\u001b[0;34m\u001b[0m\u001b[0;34m\u001b[0m\u001b[0m\n\u001b[0m\u001b[1;32m     15\u001b[0m \u001b[0;34m\u001b[0m\u001b[0m\n\u001b[1;32m     16\u001b[0m \u001b[0;31m# Make a prediction\u001b[0m\u001b[0;34m\u001b[0m\u001b[0;34m\u001b[0m\u001b[0m\n",
            "\u001b[0;32m<ipython-input-18-48454c8e9409>\u001b[0m in \u001b[0;36mpreprocess_image\u001b[0;34m(img_path)\u001b[0m\n\u001b[1;32m      4\u001b[0m \u001b[0;31m# Function to preprocess new images\u001b[0m\u001b[0;34m\u001b[0m\u001b[0;34m\u001b[0m\u001b[0m\n\u001b[1;32m      5\u001b[0m \u001b[0;32mdef\u001b[0m \u001b[0mpreprocess_image\u001b[0m\u001b[0;34m(\u001b[0m\u001b[0mimg_path\u001b[0m\u001b[0;34m)\u001b[0m\u001b[0;34m:\u001b[0m\u001b[0;34m\u001b[0m\u001b[0;34m\u001b[0m\u001b[0m\n\u001b[0;32m----> 6\u001b[0;31m     \u001b[0mimg\u001b[0m \u001b[0;34m=\u001b[0m \u001b[0mimage\u001b[0m\u001b[0;34m.\u001b[0m\u001b[0mload_img\u001b[0m\u001b[0;34m(\u001b[0m\u001b[0mimg_path\u001b[0m\u001b[0;34m,\u001b[0m \u001b[0mtarget_size\u001b[0m\u001b[0;34m=\u001b[0m\u001b[0;34m(\u001b[0m\u001b[0;36m224\u001b[0m\u001b[0;34m,\u001b[0m \u001b[0;36m224\u001b[0m\u001b[0;34m)\u001b[0m\u001b[0;34m)\u001b[0m\u001b[0;34m\u001b[0m\u001b[0;34m\u001b[0m\u001b[0m\n\u001b[0m\u001b[1;32m      7\u001b[0m     \u001b[0mimg_tensor\u001b[0m \u001b[0;34m=\u001b[0m \u001b[0mimage\u001b[0m\u001b[0;34m.\u001b[0m\u001b[0mimg_to_array\u001b[0m\u001b[0;34m(\u001b[0m\u001b[0mimg\u001b[0m\u001b[0;34m)\u001b[0m\u001b[0;34m\u001b[0m\u001b[0;34m\u001b[0m\u001b[0m\n\u001b[1;32m      8\u001b[0m     \u001b[0mimg_tensor\u001b[0m \u001b[0;34m=\u001b[0m \u001b[0mnp\u001b[0m\u001b[0;34m.\u001b[0m\u001b[0mexpand_dims\u001b[0m\u001b[0;34m(\u001b[0m\u001b[0mimg_tensor\u001b[0m\u001b[0;34m,\u001b[0m \u001b[0maxis\u001b[0m\u001b[0;34m=\u001b[0m\u001b[0;36m0\u001b[0m\u001b[0;34m)\u001b[0m\u001b[0;34m\u001b[0m\u001b[0;34m\u001b[0m\u001b[0m\n",
            "\u001b[0;32m/usr/local/lib/python3.10/dist-packages/keras/src/utils/image_utils.py\u001b[0m in \u001b[0;36mload_img\u001b[0;34m(path, grayscale, color_mode, target_size, interpolation, keep_aspect_ratio)\u001b[0m\n\u001b[1;32m    420\u001b[0m         \u001b[0;32mif\u001b[0m \u001b[0misinstance\u001b[0m\u001b[0;34m(\u001b[0m\u001b[0mpath\u001b[0m\u001b[0;34m,\u001b[0m \u001b[0mpathlib\u001b[0m\u001b[0;34m.\u001b[0m\u001b[0mPath\u001b[0m\u001b[0;34m)\u001b[0m\u001b[0;34m:\u001b[0m\u001b[0;34m\u001b[0m\u001b[0;34m\u001b[0m\u001b[0m\n\u001b[1;32m    421\u001b[0m             \u001b[0mpath\u001b[0m \u001b[0;34m=\u001b[0m \u001b[0mstr\u001b[0m\u001b[0;34m(\u001b[0m\u001b[0mpath\u001b[0m\u001b[0;34m.\u001b[0m\u001b[0mresolve\u001b[0m\u001b[0;34m(\u001b[0m\u001b[0;34m)\u001b[0m\u001b[0;34m)\u001b[0m\u001b[0;34m\u001b[0m\u001b[0;34m\u001b[0m\u001b[0m\n\u001b[0;32m--> 422\u001b[0;31m         \u001b[0;32mwith\u001b[0m \u001b[0mopen\u001b[0m\u001b[0;34m(\u001b[0m\u001b[0mpath\u001b[0m\u001b[0;34m,\u001b[0m \u001b[0;34m\"rb\"\u001b[0m\u001b[0;34m)\u001b[0m \u001b[0;32mas\u001b[0m \u001b[0mf\u001b[0m\u001b[0;34m:\u001b[0m\u001b[0;34m\u001b[0m\u001b[0;34m\u001b[0m\u001b[0m\n\u001b[0m\u001b[1;32m    423\u001b[0m             \u001b[0mimg\u001b[0m \u001b[0;34m=\u001b[0m \u001b[0mpil_image\u001b[0m\u001b[0;34m.\u001b[0m\u001b[0mopen\u001b[0m\u001b[0;34m(\u001b[0m\u001b[0mio\u001b[0m\u001b[0;34m.\u001b[0m\u001b[0mBytesIO\u001b[0m\u001b[0;34m(\u001b[0m\u001b[0mf\u001b[0m\u001b[0;34m.\u001b[0m\u001b[0mread\u001b[0m\u001b[0;34m(\u001b[0m\u001b[0;34m)\u001b[0m\u001b[0;34m)\u001b[0m\u001b[0;34m)\u001b[0m\u001b[0;34m\u001b[0m\u001b[0;34m\u001b[0m\u001b[0m\n\u001b[1;32m    424\u001b[0m     \u001b[0;32melse\u001b[0m\u001b[0;34m:\u001b[0m\u001b[0;34m\u001b[0m\u001b[0;34m\u001b[0m\u001b[0m\n",
            "\u001b[0;31mFileNotFoundError\u001b[0m: [Errno 2] No such file or directory: '/content/Test.jpeg'"
          ]
        }
      ]
    },
    {
      "cell_type": "code",
      "source": [
        "from IPython.display import display, Javascript, Image\n",
        "from google.colab.output import eval_js\n",
        "from base64 import b64decode\n",
        "import numpy as np\n",
        "from PIL import Image\n",
        "import io\n",
        "\n",
        "def take_photo(filename='photo.jpg', quality=0.8):\n",
        "  js = Javascript('''\n",
        "    async function takePhoto(quality) {\n",
        "      const div = document.createElement('div');\n",
        "      const capture = document.createElement('button');\n",
        "      capture.textContent = 'Capture';\n",
        "      div.appendChild(capture);\n",
        "\n",
        "      const video = document.createElement('video');\n",
        "      video.style.display = 'block';\n",
        "      const stream = await navigator.mediaDevices.getUserMedia({video: true});\n",
        "\n",
        "      document.body.appendChild(div);\n",
        "      div.appendChild(video);\n",
        "      video.srcObject = stream;\n",
        "      await video.play();\n",
        "\n",
        "      // Resize the output to fit the video element.\n",
        "      google.colab.output.setIframeHeight(document.documentElement.scrollHeight, true);\n",
        "\n",
        "      // Wait for Capture to be clicked.\n",
        "      await new Promise((resolve) => capture.onclick = resolve);\n",
        "\n",
        "      const canvas = document.createElement('canvas');\n",
        "      canvas.width = video.videoWidth;\n",
        "      canvas.height = video.videoHeight;\n",
        "      canvas.getContext('2d').drawImage(video, 0, 0);\n",
        "      stream.getVideoTracks()[0].stop();\n",
        "      div.remove();\n",
        "      return canvas.toDataURL('image/jpeg', quality);\n",
        "    }\n",
        "    ''')\n",
        "  display(js)\n",
        "  data = eval_js('takePhoto({})'.format(quality))\n",
        "  binary = b64decode(data.split(',')[1])\n",
        "  with open(filename, 'wb') as f:\n",
        "    f.write(binary)\n",
        "  return filename\n",
        "\n",
        "# After defining the function, you can use it to capture a photo\n",
        "image_path = take_photo() # Captures a photo.\n"
      ],
      "metadata": {
        "id": "0HdRZBAL1bPR"
      },
      "execution_count": null,
      "outputs": []
    },
    {
      "cell_type": "code",
      "source": [
        "from keras.preprocessing import image\n",
        "\n",
        "def preprocess_image(img_path, target_size=(224, 224)):\n",
        "    img = image.load_img(img_path, target_size=target_size)\n",
        "    img_tensor = image.img_to_array(img)\n",
        "    img_tensor = np.expand_dims(img_tensor, axis=0)\n",
        "    img_tensor /= 255.0  # Normalize the image\n",
        "    return img_tensor\n",
        "\n",
        "# Assuming 'image_path' is the path to the captured image\n",
        "img_tensor = preprocess_image(image_path)\n"
      ],
      "metadata": {
        "id": "5Zk76lpq2DG6"
      },
      "execution_count": null,
      "outputs": []
    },
    {
      "cell_type": "code",
      "source": [
        "predictions = model.predict(img_tensor)\n",
        "predicted_class = np.argmax(predictions, axis=1)\n",
        "predicted_label = label_encoder.inverse_transform(predicted_class)\n",
        "print(\"Predicted label:\", predicted_label)\n"
      ],
      "metadata": {
        "id": "J6c55YCL2G2b"
      },
      "execution_count": null,
      "outputs": []
    },
    {
      "cell_type": "code",
      "source": [
        "task.close()"
      ],
      "metadata": {
        "id": "1QRhMSy63LoL"
      },
      "execution_count": null,
      "outputs": []
    }
  ]
}